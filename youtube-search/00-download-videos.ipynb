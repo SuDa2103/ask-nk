{
 "cells": [
  {
   "cell_type": "code",
   "execution_count": 35,
   "id": "5f8cc5c8-0b1a-4d6b-a321-3d409aadd17c",
   "metadata": {},
   "outputs": [
    {
     "name": "stdout",
     "output_type": "stream",
     "text": [
      "Collecting git+https://github.com/nficano/pytube.git\n",
      "  Cloning https://github.com/nficano/pytube.git to /tmp/pip-req-build-tmjz5vt4\n",
      "  Running command git clone --filter=blob:none --quiet https://github.com/nficano/pytube.git /tmp/pip-req-build-tmjz5vt4\n",
      "  Resolved https://github.com/nficano/pytube.git to commit 84faec34c8a66f502ac635a5610445dbff160654\n",
      "  Preparing metadata (setup.py) ... \u001b[?25ldone\n",
      "\u001b[?25hBuilding wheels for collected packages: pytube\n",
      "  Building wheel for pytube (setup.py) ... \u001b[?25ldone\n",
      "\u001b[?25h  Created wheel for pytube: filename=pytube-12.1.0-py3-none-any.whl size=56811 sha256=24715460bc14d6a6f6bab95cc4c7080b9c386646123e31fb4af5d01bb31e3cd0\n",
      "  Stored in directory: /tmp/pip-ephem-wheel-cache-n9e3nhub/wheels/f1/b5/78/12b4d0c5846b07ac841f094923d3b270c10c0a522dad8c2951\n",
      "Successfully built pytube\n",
      "Installing collected packages: pytube\n",
      "Successfully installed pytube-12.1.0\n"
     ]
    }
   ],
   "source": [
    "!pip install git+https://github.com/nficano/pytube.git"
   ]
  },
  {
   "cell_type": "code",
   "execution_count": 1,
   "id": "1e97e7f4-5f45-42e7-8e9f-cbd3d2d839e3",
   "metadata": {},
   "outputs": [
    {
     "name": "stderr",
     "output_type": "stream",
     "text": [
      "Using custom data configuration jamescalam--channel-metadata-aff92ebb7b012696\n",
      "Reusing dataset json (/Users/jamesbriggs/.cache/huggingface/datasets/jamescalam___json/jamescalam--channel-metadata-aff92ebb7b012696/0.0.0/ac0ca5f5289a6cf108e706efcf040422dbbfa8e658dee6a819f20d76bb84d26b)\n"
     ]
    },
    {
     "data": {
      "text/plain": [
       "Dataset({\n",
       "    features: ['Video ID', 'Channel ID', 'Title', 'Time Created', 'Time Published', 'Duration', 'Description', 'Category', 'Like Count', 'Dislike Count'],\n",
       "    num_rows: 222\n",
       "})"
      ]
     },
     "execution_count": 1,
     "metadata": {},
     "output_type": "execute_result"
    }
   ],
   "source": [
    "from datasets import load_dataset\n",
    "\n",
    "meta = load_dataset(\n",
    "\t\t\"jamescalam/channel-metadata\",\n",
    "\t\tsplit=\"train\",\n",
    "  \trevision=\"9614cf8\"\n",
    ")\n",
    "meta"
   ]
  },
  {
   "cell_type": "code",
   "execution_count": 2,
   "id": "89748b36-c109-4a85-b410-dd6cd3aa40fd",
   "metadata": {},
   "outputs": [
    {
     "name": "stderr",
     "output_type": "stream",
     "text": [
      "/opt/conda/lib/python3.7/site-packages/tqdm/auto.py:22: TqdmWarning: IProgress not found. Please update jupyter and ipywidgets. See https://ipywidgets.readthedocs.io/en/stable/user_install.html\n",
      "  from .autonotebook import tqdm as notebook_tqdm\n",
      "204it [00:54,  1.13s/it]"
     ]
    },
    {
     "name": "stdout",
     "output_type": "stream",
     "text": [
      "RegexMatchError for 'https://youtu.be/ -td57YvJdHc'\n"
     ]
    },
    {
     "name": "stderr",
     "output_type": "stream",
     "text": [
      "212it [01:02,  1.01it/s]"
     ]
    },
    {
     "name": "stdout",
     "output_type": "stream",
     "text": [
      "RegexMatchError for 'https://youtu.be/ -fzCSPsfMic'\n"
     ]
    },
    {
     "name": "stderr",
     "output_type": "stream",
     "text": [
      "245it [01:46,  1.37s/it]"
     ]
    },
    {
     "name": "stdout",
     "output_type": "stream",
     "text": [
      "RegexMatchError for 'https://youtu.be/ -S20nblUuNw'\n"
     ]
    },
    {
     "name": "stderr",
     "output_type": "stream",
     "text": [
      "250it [01:50,  2.26it/s]\n"
     ]
    }
   ],
   "source": [
    "from pytube import YouTube  # !pip install pytube\n",
    "from pytube.exceptions import RegexMatchError\n",
    "from tqdm.auto import tqdm  # !pip install tqdm\n",
    "\n",
    "# where to save\n",
    "save_path = \"./mp3\"\n",
    "\n",
    "for i, row in tqdm(videos_meta):\n",
    "    # url of video to be downloaded\n",
    "    url = f\"https://youtu.be/{row['Video ID']}\"\n",
    "\n",
    "    # try to create a YouTube vid object\n",
    "    try:\n",
    "        yt = YouTube(url)\n",
    "    except RegexMatchError:\n",
    "        print(f\"RegexMatchError for '{url}'\")\n",
    "        continue\n",
    "\n",
    "    itag = None\n",
    "    # we only want audio files\n",
    "    files = yt.streams.filter(only_audio=True)\n",
    "    for file in files:\n",
    "        # and of those audio files we grab the first audio for mp4 (eg mp3)\n",
    "        if file.mime_type == 'audio/mp4':\n",
    "            itag = file.itag\n",
    "            break\n",
    "    if itag is None:\n",
    "        # just incase no MP3 audio is found (shouldn't happen)\n",
    "        print(\"NO MP3 AUDIO FOUND\")\n",
    "        continue\n",
    "\n",
    "    # get the correct mp3 'stream'\n",
    "    stream = yt.streams.get_by_itag(itag)\n",
    "    # downloading the audio\n",
    "    stream.download(output_path=save_path, filename=f\"{row['Video ID']}.mp3\")"
   ]
  },
  {
   "cell_type": "markdown",
   "id": "aa882291-ba6a-4335-b2a2-68b4c2f745df",
   "metadata": {},
   "source": [
    "---"
   ]
  }
 ],
 "metadata": {
  "environment": {
   "kernel": "python3",
   "name": "common-cu110.m95",
   "type": "gcloud",
   "uri": "gcr.io/deeplearning-platform-release/base-cu110:m95"
  },
  "kernelspec": {
   "display_name": "Python 3.9.12 ('ml')",
   "language": "python",
   "name": "python3"
  },
  "language_info": {
   "codemirror_mode": {
    "name": "ipython",
    "version": 3
   },
   "file_extension": ".py",
   "mimetype": "text/x-python",
   "name": "python",
   "nbconvert_exporter": "python",
   "pygments_lexer": "ipython3",
   "version": "3.9.12"
  },
  "vscode": {
   "interpreter": {
    "hash": "b8e7999f96e1b425e2d542f21b571f5a4be3e97158b0b46ea1b2500df63956ce"
   }
  }
 },
 "nbformat": 4,
 "nbformat_minor": 5
}
