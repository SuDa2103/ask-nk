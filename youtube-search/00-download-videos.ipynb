{
 "cells": [
  {
   "cell_type": "code",
   "execution_count": 35,
   "id": "5f8cc5c8-0b1a-4d6b-a321-3d409aadd17c",
   "metadata": {},
   "outputs": [
    {
     "name": "stdout",
     "output_type": "stream",
     "text": [
      "Collecting git+https://github.com/nficano/pytube.git\n",
      "  Cloning https://github.com/nficano/pytube.git to /tmp/pip-req-build-tmjz5vt4\n",
      "  Running command git clone --filter=blob:none --quiet https://github.com/nficano/pytube.git /tmp/pip-req-build-tmjz5vt4\n",
      "  Resolved https://github.com/nficano/pytube.git to commit 84faec34c8a66f502ac635a5610445dbff160654\n",
      "  Preparing metadata (setup.py) ... \u001b[?25ldone\n",
      "\u001b[?25hBuilding wheels for collected packages: pytube\n",
      "  Building wheel for pytube (setup.py) ... \u001b[?25ldone\n",
      "\u001b[?25h  Created wheel for pytube: filename=pytube-12.1.0-py3-none-any.whl size=56811 sha256=24715460bc14d6a6f6bab95cc4c7080b9c386646123e31fb4af5d01bb31e3cd0\n",
      "  Stored in directory: /tmp/pip-ephem-wheel-cache-n9e3nhub/wheels/f1/b5/78/12b4d0c5846b07ac841f094923d3b270c10c0a522dad8c2951\n",
      "Successfully built pytube\n",
      "Installing collected packages: pytube\n",
      "Successfully installed pytube-12.1.0\n"
     ]
    }
   ],
   "source": [
    "!pip install git+https://github.com/nficano/pytube.git"
   ]
  },
  {
   "cell_type": "code",
   "execution_count": 2,
   "id": "1e97e7f4-5f45-42e7-8e9f-cbd3d2d839e3",
   "metadata": {},
   "outputs": [
    {
     "name": "stderr",
     "output_type": "stream",
     "text": [
      "Using custom data configuration jamescalam--channel-metadata-aff92ebb7b012696\n"
     ]
    },
    {
     "name": "stdout",
     "output_type": "stream",
     "text": [
      "Downloading and preparing dataset json/jamescalam--channel-metadata to /Users/jamesbriggs/.cache/huggingface/datasets/jamescalam___json/jamescalam--channel-metadata-aff92ebb7b012696/0.0.0/ac0ca5f5289a6cf108e706efcf040422dbbfa8e658dee6a819f20d76bb84d26b...\n"
     ]
    },
    {
     "data": {
      "application/vnd.jupyter.widget-view+json": {
       "model_id": "c2252423833f456e8130596dc9875ddd",
       "version_major": 2,
       "version_minor": 0
      },
      "text/plain": [
       "Downloading data files:   0%|          | 0/1 [00:00<?, ?it/s]"
      ]
     },
     "metadata": {},
     "output_type": "display_data"
    },
    {
     "data": {
      "application/vnd.jupyter.widget-view+json": {
       "model_id": "416bbea08f2a42aa8091d4a1be6d3e42",
       "version_major": 2,
       "version_minor": 0
      },
      "text/plain": [
       "Downloading data:   0%|          | 0.00/362k [00:00<?, ?B/s]"
      ]
     },
     "metadata": {},
     "output_type": "display_data"
    },
    {
     "data": {
      "application/vnd.jupyter.widget-view+json": {
       "model_id": "0fb629896a814f46a281ee399a4ace96",
       "version_major": 2,
       "version_minor": 0
      },
      "text/plain": [
       "Extracting data files:   0%|          | 0/1 [00:00<?, ?it/s]"
      ]
     },
     "metadata": {},
     "output_type": "display_data"
    },
    {
     "name": "stdout",
     "output_type": "stream",
     "text": [
      "Dataset json downloaded and prepared to /Users/jamesbriggs/.cache/huggingface/datasets/jamescalam___json/jamescalam--channel-metadata-aff92ebb7b012696/0.0.0/ac0ca5f5289a6cf108e706efcf040422dbbfa8e658dee6a819f20d76bb84d26b. Subsequent calls will reuse this data.\n"
     ]
    },
    {
     "data": {
      "text/plain": [
       "Dataset({\n",
       "    features: ['Video ID', 'Channel ID', 'Title', 'Time Created', 'Time Published', 'Duration', 'Description', 'Category', 'Like Count', 'Dislike Count'],\n",
       "    num_rows: 222\n",
       "})"
      ]
     },
     "execution_count": 2,
     "metadata": {},
     "output_type": "execute_result"
    }
   ],
   "source": [
    "from datasets import load_dataset  # !pip install datasets\n",
    "\n",
    "videos_meta = load_dataset(\n",
    "    \"jamescalam/channel-metadata\",\n",
    "    split=\"train\"\n",
    ")\n",
    "videos_meta"
   ]
  },
  {
   "cell_type": "code",
   "execution_count": 2,
   "id": "89748b36-c109-4a85-b410-dd6cd3aa40fd",
   "metadata": {},
   "outputs": [
    {
     "name": "stderr",
     "output_type": "stream",
     "text": [
      "/opt/conda/lib/python3.7/site-packages/tqdm/auto.py:22: TqdmWarning: IProgress not found. Please update jupyter and ipywidgets. See https://ipywidgets.readthedocs.io/en/stable/user_install.html\n",
      "  from .autonotebook import tqdm as notebook_tqdm\n",
      "204it [00:54,  1.13s/it]"
     ]
    },
    {
     "name": "stdout",
     "output_type": "stream",
     "text": [
      "RegexMatchError for 'https://youtu.be/ -td57YvJdHc'\n"
     ]
    },
    {
     "name": "stderr",
     "output_type": "stream",
     "text": [
      "212it [01:02,  1.01it/s]"
     ]
    },
    {
     "name": "stdout",
     "output_type": "stream",
     "text": [
      "RegexMatchError for 'https://youtu.be/ -fzCSPsfMic'\n"
     ]
    },
    {
     "name": "stderr",
     "output_type": "stream",
     "text": [
      "245it [01:46,  1.37s/it]"
     ]
    },
    {
     "name": "stdout",
     "output_type": "stream",
     "text": [
      "RegexMatchError for 'https://youtu.be/ -S20nblUuNw'\n"
     ]
    },
    {
     "name": "stderr",
     "output_type": "stream",
     "text": [
      "250it [01:50,  2.26it/s]\n"
     ]
    }
   ],
   "source": [
    "# importing the module\n",
    "from pytube import YouTube\n",
    "from pytube.exceptions import RegexMatchError\n",
    "from tqdm.auto import tqdm  # !pip install tqdm\n",
    "\n",
    "# where to save\n",
    "SAVE_PATH = \"./mp3\" #to_do\n",
    "\n",
    "for i, row in tqdm(videos_meta):\n",
    "    # url of the video to be downloaded\n",
    "    url = f\"https://youtu.be/{row['Video ID']}\"\n",
    "\n",
    "    # object creation using YouTube\n",
    "    # which was imported in the beginning\n",
    "    try:\n",
    "        yt = YouTube(url)\n",
    "    except RegexMatchError:\n",
    "        print(f\"RegexMatchError for '{url}'\")\n",
    "        continue\n",
    "\n",
    "    itag = None\n",
    "    # filters out all the files with \"mp4\" extension\n",
    "    files = yt.streams.filter(only_audio=True)\n",
    "    for file in files:\n",
    "        if file.mime_type == 'audio/mp4':\n",
    "            itag = file.itag\n",
    "            break\n",
    "    if itag is None:\n",
    "        print(\"NO MP3 AUDIO FOUND\")\n",
    "        continue\n",
    "    \n",
    "    stream = yt.streams.get_by_itag(itag)\n",
    "\n",
    "    # downloading the video\n",
    "    stream.download(output_path=SAVE_PATH, filename=f\"{row['Video ID']}.mp3\")"
   ]
  },
  {
   "cell_type": "markdown",
   "id": "aa882291-ba6a-4335-b2a2-68b4c2f745df",
   "metadata": {},
   "source": [
    "---"
   ]
  }
 ],
 "metadata": {
  "environment": {
   "kernel": "python3",
   "name": "common-cu110.m95",
   "type": "gcloud",
   "uri": "gcr.io/deeplearning-platform-release/base-cu110:m95"
  },
  "kernelspec": {
   "display_name": "Python 3.9.12 ('ml')",
   "language": "python",
   "name": "python3"
  },
  "language_info": {
   "codemirror_mode": {
    "name": "ipython",
    "version": 3
   },
   "file_extension": ".py",
   "mimetype": "text/x-python",
   "name": "python",
   "nbconvert_exporter": "python",
   "pygments_lexer": "ipython3",
   "version": "3.9.12"
  },
  "vscode": {
   "interpreter": {
    "hash": "b8e7999f96e1b425e2d542f21b571f5a4be3e97158b0b46ea1b2500df63956ce"
   }
  }
 },
 "nbformat": 4,
 "nbformat_minor": 5
}
