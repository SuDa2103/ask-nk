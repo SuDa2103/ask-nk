{
 "cells": [
  {
   "cell_type": "markdown",
   "id": "91d2f2c5-097f-4f02-b9dd-9365d6a23db6",
   "metadata": {},
   "source": [
    "# Build Embeddings\n",
    "\n",
    "## Dataset\n",
    "\n",
    "First we need to download the YT transcriptions dataset:"
   ]
  },
  {
   "cell_type": "code",
   "execution_count": 1,
   "id": "e58ca384-1f49-4565-ae1b-67c046dc38a8",
   "metadata": {},
   "outputs": [
    {
     "name": "stderr",
     "output_type": "stream",
     "text": [
      "/opt/conda/lib/python3.7/site-packages/tqdm/auto.py:22: TqdmWarning: IProgress not found. Please update jupyter and ipywidgets. See https://ipywidgets.readthedocs.io/en/stable/user_install.html\n",
      "  from .autonotebook import tqdm as notebook_tqdm\n",
      "Using custom data configuration jamescalam--youtube-transcriptions-25e61ee3cea2d8c2\n",
      "Reusing dataset json (/home/jupyter/.cache/huggingface/datasets/jamescalam___json/jamescalam--youtube-transcriptions-25e61ee3cea2d8c2/0.0.0/a3e658c4731e59120d44081ac10bf85dc7e1388126b92338344ce9661907f253)\n"
     ]
    },
    {
     "data": {
      "text/plain": [
       "Dataset({\n",
       "    features: ['title', 'visibility', 'published', 'url', 'id', 'text', 'start', 'end'],\n",
       "    num_rows: 27214\n",
       "})"
      ]
     },
     "execution_count": 1,
     "metadata": {},
     "output_type": "execute_result"
    }
   ],
   "source": [
    "from datasets import load_dataset\n",
    "\n",
    "data = load_dataset(\n",
    "    'jamescalam/youtube-transcriptions',\n",
    "    split='train'\n",
    ")\n",
    "data"
   ]
  },
  {
   "cell_type": "code",
   "execution_count": 2,
   "id": "7a4f743c-4eb2-4e8d-b8a4-86f074f5d8cf",
   "metadata": {},
   "outputs": [
    {
     "data": {
      "text/plain": [
       "{'title': 'Training and Testing an Italian BERT - Transformers From Scratch #4',\n",
       " 'visibility': 'Public',\n",
       " 'published': '2021-07-06 13:00:03 UTC',\n",
       " 'url': 'https://youtu.be/35Pdoyi6ZoQ',\n",
       " 'id': '35Pdoyi6ZoQ-t0.0',\n",
       " 'text': 'Hi, welcome to the video.',\n",
       " 'start': 0.0,\n",
       " 'end': 9.36}"
      ]
     },
     "execution_count": 2,
     "metadata": {},
     "output_type": "execute_result"
    }
   ],
   "source": [
    "data[0]"
   ]
  },
  {
   "cell_type": "code",
   "execution_count": 3,
   "id": "f656fdc5-0d9b-404f-83ff-f03a1a15d1e6",
   "metadata": {},
   "outputs": [
    {
     "data": {
      "text/plain": [
       "{'title': 'Training and Testing an Italian BERT - Transformers From Scratch #4',\n",
       " 'visibility': 'Public',\n",
       " 'published': '2021-07-06 13:00:03 UTC',\n",
       " 'url': 'https://youtu.be/35Pdoyi6ZoQ',\n",
       " 'id': '35Pdoyi6ZoQ-t3.0',\n",
       " 'text': 'So this is the fourth video in a Transformers',\n",
       " 'start': 3.0,\n",
       " 'end': 11.56}"
      ]
     },
     "execution_count": 3,
     "metadata": {},
     "output_type": "execute_result"
    }
   ],
   "source": [
    "data[1]"
   ]
  },
  {
   "cell_type": "code",
   "execution_count": 4,
   "id": "9a3cae1e-3513-4c86-b9b6-9b274daabc28",
   "metadata": {},
   "outputs": [
    {
     "data": {
      "text/plain": [
       "{'title': 'Training and Testing an Italian BERT - Transformers From Scratch #4',\n",
       " 'visibility': 'Public',\n",
       " 'published': '2021-07-06 13:00:03 UTC',\n",
       " 'url': 'https://youtu.be/35Pdoyi6ZoQ',\n",
       " 'id': '35Pdoyi6ZoQ-t9.36',\n",
       " 'text': 'from Scratch mini series.',\n",
       " 'start': 9.36,\n",
       " 'end': 15.84}"
      ]
     },
     "execution_count": 4,
     "metadata": {},
     "output_type": "execute_result"
    }
   ],
   "source": [
    "data[2]"
   ]
  },
  {
   "cell_type": "markdown",
   "id": "56ec200e-3a1d-4dce-b3b7-08f72bb13c02",
   "metadata": {},
   "source": [
    "The sentences are all quite short at the moment, we need to merge them to create better chunks of text containing more meaning."
   ]
  },
  {
   "cell_type": "code",
   "execution_count": 5,
   "id": "05f2876d-9e4a-4271-aeb7-4ac8afad7c7e",
   "metadata": {},
   "outputs": [
    {
     "name": "stderr",
     "output_type": "stream",
     "text": [
      "100%|██████████| 9072/9072 [00:07<00:00, 1156.11it/s]\n"
     ]
    }
   ],
   "source": [
    "from tqdm.auto import tqdm\n",
    "\n",
    "new_data = []\n",
    "\n",
    "window = 6  # number of sentences to combine\n",
    "stride = 3  # number of sentences to 'stride' over, used to create overlap\n",
    "\n",
    "for i in tqdm(range(0, len(data), stride)):\n",
    "    i_end = min(len(data)-1, i+window)\n",
    "    if data[i]['title'] != data[i_end]['title']:\n",
    "        # in this case we skip this entry as we have start/end of two videos\n",
    "        continue\n",
    "    text = ' '.join(data[i:i_end]['text'])\n",
    "    new_data.append({\n",
    "        'start': data[i]['start'],\n",
    "        'end': data[i_end]['end'],\n",
    "        'title': data[i]['title'],\n",
    "        'text': text,\n",
    "        'id': data[i]['id'],\n",
    "        'url': data[i]['url'],\n",
    "        'published': data[i]['published']\n",
    "    })"
   ]
  },
  {
   "cell_type": "code",
   "execution_count": 6,
   "id": "88c798ca-6aef-41a2-9979-056561ca693e",
   "metadata": {},
   "outputs": [
    {
     "data": {
      "text/plain": [
       "{'start': 0.0,\n",
       " 'end': 25.76,\n",
       " 'title': 'Training and Testing an Italian BERT - Transformers From Scratch #4',\n",
       " 'text': \"Hi, welcome to the video. So this is the fourth video in a Transformers from Scratch mini series. So if you haven't been following along, we've essentially covered what you can see on the screen. So we got some data.\",\n",
       " 'id': '35Pdoyi6ZoQ-t0.0',\n",
       " 'url': 'https://youtu.be/35Pdoyi6ZoQ',\n",
       " 'published': '2021-07-06 13:00:03 UTC'}"
      ]
     },
     "execution_count": 6,
     "metadata": {},
     "output_type": "execute_result"
    }
   ],
   "source": [
    "new_data[0]"
   ]
  },
  {
   "cell_type": "code",
   "execution_count": 7,
   "id": "b65d16ed-a84e-43a6-9798-9544248b6732",
   "metadata": {},
   "outputs": [
    {
     "data": {
      "text/plain": [
       "{'start': 981.4,\n",
       " 'end': 1009.52,\n",
       " 'title': 'Training and Testing an Italian BERT - Transformers From Scratch #4',\n",
       " 'text': \"Now, it has taken a long time. It's a few days later. And I made a few changes during training as well. So this definitely wasn't the cleanest training process, because I was kind of updating parameters as it was going along. So initially, well, first, we've trained\",\n",
       " 'id': '35Pdoyi6ZoQ-t981.4',\n",
       " 'url': 'https://youtu.be/35Pdoyi6ZoQ',\n",
       " 'published': '2021-07-06 13:00:03 UTC'}"
      ]
     },
     "execution_count": 7,
     "metadata": {},
     "output_type": "execute_result"
    }
   ],
   "source": [
    "new_data[100]"
   ]
  },
  {
   "cell_type": "code",
   "execution_count": 8,
   "id": "0a49ea79-b7f7-4f74-9b79-09152fc21b2a",
   "metadata": {},
   "outputs": [
    {
     "data": {
      "text/plain": [
       "{'start': 1096.0,\n",
       " 'end': 1112.0,\n",
       " 'title': 'Training BERT #4 - Train With Next Sentence Prediction (NSP)',\n",
       " 'text': \"token type IDs. Let's go with number 0. Okay. So now we see okay the reason is because they're in the middle here.\",\n",
       " 'id': 'x1lAcT3xl5M-t1096.0',\n",
       " 'url': 'https://youtu.be/x1lAcT3xl5M',\n",
       " 'published': '2021-05-27 16:15:39 UTC'}"
      ]
     },
     "execution_count": 8,
     "metadata": {},
     "output_type": "execute_result"
    }
   ],
   "source": [
    "new_data[500]"
   ]
  },
  {
   "cell_type": "markdown",
   "id": "2a0496cd-ea41-4db4-b41a-98a495acaf05",
   "metadata": {},
   "source": [
    "## Initialize Embedding Model"
   ]
  },
  {
   "cell_type": "code",
   "execution_count": 9,
   "id": "5aa18049-920c-4784-9240-fa251e58d3b4",
   "metadata": {},
   "outputs": [
    {
     "data": {
      "text/plain": [
       "SentenceTransformer(\n",
       "  (0): Transformer({'max_seq_length': 512, 'do_lower_case': False}) with Transformer model: MPNetModel \n",
       "  (1): Pooling({'word_embedding_dimension': 768, 'pooling_mode_cls_token': True, 'pooling_mode_mean_tokens': False, 'pooling_mode_max_tokens': False, 'pooling_mode_mean_sqrt_len_tokens': False})\n",
       ")"
      ]
     },
     "execution_count": 9,
     "metadata": {},
     "output_type": "execute_result"
    }
   ],
   "source": [
    "from sentence_transformers import SentenceTransformer\n",
    "\n",
    "model_id = \"multi-qa-mpnet-base-dot-v1\"\n",
    "\n",
    "model = SentenceTransformer(model_id)\n",
    "model"
   ]
  },
  {
   "cell_type": "code",
   "execution_count": 10,
   "id": "dc0e39a1-266a-42ed-bede-e8dc3240476c",
   "metadata": {},
   "outputs": [],
   "source": [
    "dim = model.get_sentence_embedding_dimension()"
   ]
  },
  {
   "cell_type": "code",
   "execution_count": 11,
   "id": "7b1d1ae0-6f9d-4906-b84c-7bee0985b1fa",
   "metadata": {},
   "outputs": [
    {
     "data": {
      "text/plain": [
       "{'dimension': 768,\n",
       " 'index_fullness': 0.0,\n",
       " 'namespaces': {},\n",
       " 'total_vector_count': 0}"
      ]
     },
     "execution_count": 11,
     "metadata": {},
     "output_type": "execute_result"
    }
   ],
   "source": [
    "import pinecone\n",
    "\n",
    "index_id = \"youtube-search\"\n",
    "\n",
    "pinecone.init(\n",
    "    api_key=\"<<YOUR_API_KEY>>\",  # app.pinecone.io\n",
    "    environment=\"us-west1-gcp\"\n",
    ")\n",
    "\n",
    "if index_id not in pinecone.list_indexes():\n",
    "    pinecone.create_index(\n",
    "        index_id,\n",
    "        dim,\n",
    "        metric=\"dotproduct\"\n",
    "    )\n",
    "\n",
    "index = pinecone.Index(index_id)\n",
    "index.describe_index_stats()"
   ]
  },
  {
   "cell_type": "markdown",
   "id": "828756a7-08a2-45be-a329-46100aced366",
   "metadata": {},
   "source": [
    "Now let's begin building the embeddings..."
   ]
  },
  {
   "cell_type": "code",
   "execution_count": 12,
   "id": "7cd0413e-ee5a-41b8-a5e1-1298cce62d48",
   "metadata": {},
   "outputs": [
    {
     "name": "stderr",
     "output_type": "stream",
     "text": [
      "100%|██████████| 210/210 [00:56<00:00,  3.72it/s]\n"
     ]
    }
   ],
   "source": [
    "from tqdm.auto import tqdm\n",
    "\n",
    "# we encode and insert in batches of 64\n",
    "batch_size = 64\n",
    "\n",
    "# loop through in batches of 64\n",
    "for i in tqdm(range(0, len(new_data), batch_size)):\n",
    "    # find end position of batch (for when we hit end of data)\n",
    "    i_end = min(len(new_data)-1, i+batch_size)\n",
    "    # extract the metadata like text, start/end positions, etc\n",
    "    batch_meta = [{\n",
    "        \"text\": new_data[x][\"text\"],\n",
    "        \"start\": new_data[x][\"start\"],\n",
    "        \"end\": new_data[x][\"end\"],\n",
    "        \"url\": new_data[x][\"url\"],\n",
    "        \"title\": new_data[x][\"title\"]\n",
    "    } for x in range(i, i_end)]\n",
    "    # extract only text to be encoded by embedding model\n",
    "    batch_text = [row['text'] for row in new_data[i:i_end]]\n",
    "    # create the embedding vectors\n",
    "    batch_embeds = model.encode(batch_text).tolist()\n",
    "    # extract IDs to be attached to each embedding and metadata\n",
    "    batch_ids = [row['id'] for row in new_data[i:i_end]]\n",
    "    # 'upsert' (eg insert) IDs, embeddings, and metadata to index\n",
    "    to_upsert = list(zip(batch_ids, batch_embeds, batch_meta))\n",
    "    index.upsert(to_upsert)\n",
    "\n",
    "# check everything has been added\n",
    "index.describe_index_stats()"
   ]
  },
  {
   "cell_type": "code",
   "execution_count": 13,
   "id": "f364ef48-96e1-40a7-8aae-45073ea27d4d",
   "metadata": {},
   "outputs": [
    {
     "data": {
      "text/plain": [
       "13392"
      ]
     },
     "execution_count": 13,
     "metadata": {},
     "output_type": "execute_result"
    }
   ],
   "source": [
    "i_end"
   ]
  },
  {
   "cell_type": "code",
   "execution_count": 14,
   "id": "a32f2d85-a310-4b97-bcf2-5993efecb784",
   "metadata": {},
   "outputs": [
    {
     "data": {
      "text/plain": [
       "{'dimension': 768,\n",
       " 'index_fullness': 0.0,\n",
       " 'namespaces': {'': {'vector_count': 13392}},\n",
       " 'total_vector_count': 13392}"
      ]
     },
     "execution_count": 14,
     "metadata": {},
     "output_type": "execute_result"
    }
   ],
   "source": [
    "index.describe_index_stats()"
   ]
  },
  {
   "cell_type": "code",
   "execution_count": 15,
   "id": "2e1c5458-c25a-4150-adc2-e783bcbe2b9c",
   "metadata": {},
   "outputs": [
    {
     "data": {
      "text/plain": [
       "{'matches': [{'id': '_OAU1kQdmgE-t521.52',\n",
       "              'metadata': {'end': 562.96,\n",
       "                           'start': 521.52,\n",
       "                           'text': \"point on projects it's also a very good \"\n",
       "                                   'idea to see if you can try and contribute '\n",
       "                                   'to open source projects. Now this is a '\n",
       "                                   'pretty typical piece of advice where '\n",
       "                                   'people say okay you should contribute to '\n",
       "                                   \"open source and I'm including that as well \"\n",
       "                                   \"because it's very good advice. If you can \"\n",
       "                                   'go ahead and start contributing to things '\n",
       "                                   'there are a lot of things that will '\n",
       "                                   \"happen. First you're contributing\",\n",
       "                           'title': 'How to Learn Data Science | ML | '\n",
       "                                    'Programming',\n",
       "                           'url': 'https://youtu.be/_OAU1kQdmgE'},\n",
       "              'score': 24.8418446,\n",
       "              'values': []},\n",
       "             {'id': '_OAU1kQdmgE-t605.76',\n",
       "              'metadata': {'end': 642.8,\n",
       "                           'start': 605.76,\n",
       "                           'text': \"So I wouldn't worry so much about not \"\n",
       "                                   \"feeling like you're good enough to \"\n",
       "                                   'contribute to open source because pretty '\n",
       "                                   'much everyone even the people that do '\n",
       "                                   'contribute to open source feel like that '\n",
       "                                   \"it's normal. Sure you're probably not \"\n",
       "                                   'going to be as good as you know some of '\n",
       "                                   'the main contributors to these libraries '\n",
       "                                   \"but that's fine the majority people aren't \"\n",
       "                                   'everyone starts',\n",
       "                           'title': 'How to Learn Data Science | ML | '\n",
       "                                    'Programming',\n",
       "                           'url': 'https://youtu.be/_OAU1kQdmgE'},\n",
       "              'score': 24.1324615,\n",
       "              'values': []},\n",
       "             {'id': '_OAU1kQdmgE-t547.44',\n",
       "              'metadata': {'end': 593.44,\n",
       "                           'start': 547.44,\n",
       "                           'text': \"to the open source community, you're \"\n",
       "                                   'advancing machine learning as a field '\n",
       "                                   'which is really cool. Two you are going to '\n",
       "                                   'learn whatever library you are going to '\n",
       "                                   \"contribute to very well. You're going to \"\n",
       "                                   'understand it much better than the vast '\n",
       "                                   'majority of users, pretty much everyone '\n",
       "                                   'other than the other people that also '\n",
       "                                   \"contribute to that library. And you're \"\n",
       "                                   'also going to learn a lot of the best',\n",
       "                           'title': 'How to Learn Data Science | ML | '\n",
       "                                    'Programming',\n",
       "                           'url': 'https://youtu.be/_OAU1kQdmgE'},\n",
       "              'score': 23.8978024,\n",
       "              'values': []},\n",
       "             {'id': '_OAU1kQdmgE-t535.6',\n",
       "              'metadata': {'end': 575.44,\n",
       "                           'start': 535.6,\n",
       "                           'text': \"to open source and I'm including that as \"\n",
       "                                   \"well because it's very good advice. If you \"\n",
       "                                   'can go ahead and start contributing to '\n",
       "                                   'things there are a lot of things that will '\n",
       "                                   \"happen. First you're contributing to the \"\n",
       "                                   \"open source community, you're advancing \"\n",
       "                                   'machine learning as a field which is '\n",
       "                                   'really cool. Two you are going to learn '\n",
       "                                   'whatever library you are going to '\n",
       "                                   \"contribute to very well. You're going\",\n",
       "                           'title': 'How to Learn Data Science | ML | '\n",
       "                                    'Programming',\n",
       "                           'url': 'https://youtu.be/_OAU1kQdmgE'},\n",
       "              'score': 23.4077549,\n",
       "              'values': []},\n",
       "             {'id': 'JydpRavoJqI-t889.46',\n",
       "              'metadata': {'end': 918.1800000000001,\n",
       "                           'start': 889.46,\n",
       "                           'text': 'Now what I want to just show you quickly '\n",
       "                                   'is okay. How how do you get started when '\n",
       "                                   \"you're setting up When you're hoping to \"\n",
       "                                   'contribute open source project, how do you '\n",
       "                                   'set that up in in git so I mean you can '\n",
       "                                   'see here I made a little little chart',\n",
       "                           'title': 'Adding New Doc Stores to Haystack',\n",
       "                           'url': 'https://youtu.be/JydpRavoJqI'},\n",
       "              'score': 22.6305027,\n",
       "              'values': []}],\n",
       " 'namespace': ''}"
      ]
     },
     "execution_count": 15,
     "metadata": {},
     "output_type": "execute_result"
    }
   ],
   "source": [
    "query = \"how to contribute to open source?\"\n",
    "\n",
    "xq = model.encode(query).tolist()\n",
    "\n",
    "index.query(xq, top_k=5, include_metadata=True)"
   ]
  },
  {
   "cell_type": "markdown",
   "id": "6ab6b0d0-1911-434f-ad72-33ec9ce567db",
   "metadata": {},
   "source": [
    "---"
   ]
  }
 ],
 "metadata": {
  "environment": {
   "kernel": "python3",
   "name": "common-cu110.m95",
   "type": "gcloud",
   "uri": "gcr.io/deeplearning-platform-release/base-cu110:m95"
  },
  "kernelspec": {
   "display_name": "Python 3",
   "language": "python",
   "name": "python3"
  },
  "language_info": {
   "codemirror_mode": {
    "name": "ipython",
    "version": 3
   },
   "file_extension": ".py",
   "mimetype": "text/x-python",
   "name": "python",
   "nbconvert_exporter": "python",
   "pygments_lexer": "ipython3",
   "version": "3.7.12"
  }
 },
 "nbformat": 4,
 "nbformat_minor": 5
}
